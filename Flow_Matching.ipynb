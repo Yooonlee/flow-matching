{
  "cells": [
    {
      "cell_type": "markdown",
      "metadata": {
        "colab_type": "text",
        "id": "view-in-github"
      },
      "source": [
        "<a href=\"https://colab.research.google.com/github/gle-bellier/flow-matching/blob/main/Flow_Matching.ipynb\" target=\"_parent\"><img src=\"https://colab.research.google.com/assets/colab-badge.svg\" alt=\"Open In Colab\"/></a>"
      ]
    },
    {
      "cell_type": "markdown",
      "metadata": {
        "id": "Ln6lNwXtIl_G"
      },
      "source": [
        "# Flow Matching for Generative Modeling\n",
        "_notebook by Georges Le Bellier_  - [Twitter](https://twitter.com/_lebellig), [Website](https://gle-bellier.github.io)\n",
        "\n",
        "\n",
        "⚠️ This is not the official implementation of the original paper.\n",
        "\n"
      ]
    },
    {
      "cell_type": "markdown",
      "metadata": {
        "id": "Uhh45Iolt-Ky"
      },
      "source": [
        "This notebook centers around the **Flow Matching for Generative Modeling** article [1] and proposes an implementation of _Flow Matching_ in the case of _Optimal Transport conditional Vector Fields_. The implementation proposed in [2] was consulted and it inspired the use of the _Zuko_ [3] package for ODE solving and sampling. Moreover, this notebook adopts the notations of the original article and thus the numbers of the equations are the same as in the paper.\n",
        "\n",
        "## References:\n",
        "\n",
        "📄 [1] **Flow Matching for Generative Modeling** by Yaron Lipman, Ricky T. Q. Chen, Heli Ben-Hamu, Maximilian Nickel, Matt Le - [Article](https://arxiv.org/abs/2210.02747)\n",
        "\n",
        "🐍 [2] **Flow Matching in 100 LOC** by François Rozet - [Implementation](https://gist.github.com/francois-rozet/fd6a820e052157f8ac6e2aa39e16c1aa)\n",
        "\n",
        "🐍 [3] **Zuko** package - [Website](https://zuko.readthedocs.io/en/stable/index.html)\n",
        "\n",
        "📄 [4] **Score-Based Generative Modeling through Stochastic Differential Equations** by Yang Song, Jascha Sohl-Dickstein, Diederik P. Kingma, Abhishek Kumar, Stefano Ermon, Ben Poole - [Article](https://arxiv.org/abs/2011.13456)\n"
      ]
    },
    {
      "cell_type": "markdown",
      "metadata": {
        "id": "iQNuNue1mdN7"
      },
      "source": [
        "## Introduction\n",
        "\n",
        "The article [1] reminds the reader with the following notations:\n",
        "- $\\mathbb{R}^d$ denote the adata space with data points $x = (x^1, ..., x^d) \\in \\mathbb{R}^d$. \n",
        "- $v: [0, 1] \\times \\mathbb{R}^d \\rightarrow \\mathbb{R}^d$ is the _time-dependant vector field_. \n",
        "- $\\phi: [0, 1] \\times \\mathbb{R}^d \\rightarrow \\mathbb{R}^d$ is a _flow_. A flow is associated to a vector field $v_t$ thanks to the following equations:\n",
        "$$\n",
        "\\begin{cases}\n",
        "  \\frac{d}{dt}\\phi_t(x) = v_t(\\phi_t(x))\\\\ \n",
        "  \\phi_0(x) = x \\tag{1, 2}\\\\\n",
        "\\end{cases}\n",
        "$$ \n",
        "\n",
        "The main idea is then to use a neural network to model the vector field $v_t$, which implies that $\\phi_t$ will also be a parametric model and we call it a  _Continuous Normalizing Flow_ (CNF). In the context of generative modeling, the CNF allows us to transform a simple prior distribution (_e.g._ gaussian) $p_0$ into a more complex one $p_1$ (which we want close to the data distribution $q$ we need to model) by using the _push-forward equation_:\n",
        "$$\n",
        " p_t = [\\phi_t]_*p_0 \\tag{3}\n",
        "$$\n",
        "Where:\n",
        "$$\n",
        " \\forall x \\in \\mathbb{R}^2, [\\phi_t]_*p_0(x) = p_0(\\phi^{-1}(x))\\det\\left[\\frac{\\partial\\phi_t^{-1}}{\\partial x}(x)\\right]\n",
        "$$\n",
        "\n",
        "\n",
        "\n",
        "\n",
        "Thus the _Flow Matching_ aims at learning the true vector field $u_t$:\n",
        "\n",
        "$$\n",
        "\\mathcal{L}_{FM}(\\theta) = \\mathbb{E}_{t, p_t(x)} \\lVert v_t(x) - u_t(x) \\rVert^2 \\tag{5}\n",
        "$$\n",
        "\n",
        "However this objectif is intractable, so the article [1] introduces the _Conditional Flow Matching_ (CFM) objective where $x_1 \\sim q(x_1) \\approx p_1(x_1)$ :\n",
        "\n",
        "$$\n",
        "\\mathcal{L}_{CFM}(\\theta) = \\mathbb{E}_{t, q(x_1), p_t(x|x_1)} \\lVert v_t(x) - u_t(x|x_1) \\rVert^2 \\tag{9}\n",
        "$$ \n",
        "\n",
        "This objective can be declined in several ways depending on the choice of the form of the conditional probability paths. In this notebook we will focus on the case of _Optimal Transport conditional Vector Fields_ and will leave the _Diffusion conditional Vector Fields_ for future works.\n",
        "\n",
        "\n",
        "\n"
      ]
    },
    {
      "cell_type": "code",
      "execution_count": 5,
      "metadata": {
        "cellView": "form",
        "id": "fOTJ1mwJDR8y"
      },
      "outputs": [
        {
          "name": "stdout",
          "output_type": "stream",
          "text": [
            "Requirement already satisfied: zuko in /Users/kylee/opt/anaconda3/envs/student_env/lib/python3.10/site-packages (1.3.1)\n",
            "Requirement already satisfied: numpy>=1.20.0 in /Users/kylee/opt/anaconda3/envs/student_env/lib/python3.10/site-packages (from zuko) (1.24.3)\n",
            "Requirement already satisfied: torch>=1.12.0 in /Users/kylee/opt/anaconda3/envs/student_env/lib/python3.10/site-packages (from zuko) (2.0.1)\n",
            "Requirement already satisfied: filelock in /Users/kylee/opt/anaconda3/envs/student_env/lib/python3.10/site-packages (from torch>=1.12.0->zuko) (3.12.3)\n",
            "Requirement already satisfied: typing-extensions in /Users/kylee/opt/anaconda3/envs/student_env/lib/python3.10/site-packages (from torch>=1.12.0->zuko) (4.8.0)\n",
            "Requirement already satisfied: sympy in /Users/kylee/opt/anaconda3/envs/student_env/lib/python3.10/site-packages (from torch>=1.12.0->zuko) (1.12)\n",
            "Requirement already satisfied: networkx in /Users/kylee/opt/anaconda3/envs/student_env/lib/python3.10/site-packages (from torch>=1.12.0->zuko) (3.1)\n",
            "Requirement already satisfied: jinja2 in /Users/kylee/opt/anaconda3/envs/student_env/lib/python3.10/site-packages (from torch>=1.12.0->zuko) (3.1.2)\n",
            "Requirement already satisfied: MarkupSafe>=2.0 in /Users/kylee/opt/anaconda3/envs/student_env/lib/python3.10/site-packages (from jinja2->torch>=1.12.0->zuko) (2.1.3)\n",
            "Requirement already satisfied: mpmath>=0.19 in /Users/kylee/opt/anaconda3/envs/student_env/lib/python3.10/site-packages (from sympy->torch>=1.12.0->zuko) (1.3.0)\n",
            "Requirement already satisfied: torchdiffeq in /Users/kylee/opt/anaconda3/envs/student_env/lib/python3.10/site-packages (0.2.5)\n",
            "Requirement already satisfied: torch>=1.5.0 in /Users/kylee/opt/anaconda3/envs/student_env/lib/python3.10/site-packages (from torchdiffeq) (2.0.1)\n",
            "Requirement already satisfied: scipy>=1.4.0 in /Users/kylee/opt/anaconda3/envs/student_env/lib/python3.10/site-packages (from torchdiffeq) (1.11.2)\n",
            "Requirement already satisfied: numpy<1.28.0,>=1.21.6 in /Users/kylee/opt/anaconda3/envs/student_env/lib/python3.10/site-packages (from scipy>=1.4.0->torchdiffeq) (1.24.3)\n",
            "Requirement already satisfied: filelock in /Users/kylee/opt/anaconda3/envs/student_env/lib/python3.10/site-packages (from torch>=1.5.0->torchdiffeq) (3.12.3)\n",
            "Requirement already satisfied: typing-extensions in /Users/kylee/opt/anaconda3/envs/student_env/lib/python3.10/site-packages (from torch>=1.5.0->torchdiffeq) (4.8.0)\n",
            "Requirement already satisfied: sympy in /Users/kylee/opt/anaconda3/envs/student_env/lib/python3.10/site-packages (from torch>=1.5.0->torchdiffeq) (1.12)\n",
            "Requirement already satisfied: networkx in /Users/kylee/opt/anaconda3/envs/student_env/lib/python3.10/site-packages (from torch>=1.5.0->torchdiffeq) (3.1)\n",
            "Requirement already satisfied: jinja2 in /Users/kylee/opt/anaconda3/envs/student_env/lib/python3.10/site-packages (from torch>=1.5.0->torchdiffeq) (3.1.2)\n",
            "Requirement already satisfied: MarkupSafe>=2.0 in /Users/kylee/opt/anaconda3/envs/student_env/lib/python3.10/site-packages (from jinja2->torch>=1.5.0->torchdiffeq) (2.1.3)\n",
            "Requirement already satisfied: mpmath>=0.19 in /Users/kylee/opt/anaconda3/envs/student_env/lib/python3.10/site-packages (from sympy->torch>=1.5.0->torchdiffeq) (1.3.0)\n"
          ]
        }
      ],
      "source": [
        "#@title ⚠️ TODO: imports\n",
        "# %%capture \n",
        "!pip install zuko\n",
        "!pip install torchdiffeq\n",
        "\n",
        "import matplotlib.pyplot as plt\n",
        "import torch\n",
        "import torch.nn as nn\n",
        "\n",
        "from sklearn.datasets import make_moons, make_swiss_roll\n",
        "from sklearn.preprocessing import StandardScaler\n",
        "from torch import Tensor\n",
        "from torch.distributions import Normal\n",
        "from torch.utils.data import TensorDataset, DataLoader\n",
        "from zuko.utils import odeint\n",
        "from tqdm import tqdm\n",
        "from typing import *\n",
        "import numpy as np\n",
        "import pandas as pd\n",
        "\n",
        "\n",
        "device = torch.device(\"cuda:0\" if torch.cuda.is_available() else \"cpu\")"
      ]
    },
    {
      "cell_type": "markdown",
      "metadata": {
        "id": "ruFBhLGxuxfA"
      },
      "source": [
        "## Optimal Transport conditional Vector Fields:\n",
        "\n",
        "In this section, we will propose an implementation of the _Optimal Transport conditional Vector Fields_. Please refer to the article for more details about the motivations behind this concept.\n"
      ]
    },
    {
      "cell_type": "markdown",
      "metadata": {
        "id": "L2737wxMvsyP"
      },
      "source": [
        "Let $x_1 \\sim q(x_1)$, _i.e._ a point from the dataset, and we can define the conditional flow $\\psi_t$ (conditional version of $\\phi_t$) to be the Optimal Transport _displacement map_ between the two Gaussians $p_0(x|x_1)$ and $p_1(x|x_1)$ (we can proove that $\\psi_t$ satisfies Eq.3)\n",
        "$$\n",
        "\\psi_t(x) = (1 - (1 - \\sigma_{min})t)x + tx_1 \\tag{22}\n",
        "$$\n"
      ]
    },
    {
      "cell_type": "markdown",
      "metadata": {
        "id": "tuZBpMQ2q48w"
      },
      "source": [
        "In the case of _Optimal Transport conditional VFs_ the conditional flow matching objective loss can be written as follow:\n",
        "$$\n",
        "\\mathcal{L}_{CFM}(\\theta) = \\mathbb{E}_{t, q(x_1), p(x_0)} \\big\\lVert v_t(\\psi_t(x_0)) - \\frac{d}{dt}\\psi_t(x_0) \\big\\rVert^2 \\tag{14}\n",
        "$$\n",
        "Given (22), we have:\n",
        "$$\n",
        "\\frac{d}{dt}\\psi_t(x_0) = (x_1 - (1 - \\sigma_{min})x_0)\n",
        "$$\n",
        "Thus, we obtain the final form of the _Conditional Flow Matching_ loss:\n",
        "$$\n",
        "\\mathcal{L}_{CFM}(\\theta) = \\mathbb{E}_{t, q(x_1), p(x_0)} \\big\\lVert v_t(\\psi_t(x_0)) - (x_1 - (1 - \\sigma_{min})x_0) \\big\\rVert^2 \\tag{23}\n",
        "$$\n",
        "We sample $x_1 \\sim q(x_1)$ (samples from the dataset), $x_0 \\sim p(x_0)$ (samples from the _prior distribution_) and $t \\sim \\text{Unif}([0, 1])$. It is worth noticing that we apply a little trick for time sampling since we batch covers the range $[0, 1]$ uniformly with a random offset. Then we compute an approximation of the _CFM Loss_ on the batch: \n",
        "$$\n",
        "\\mathcal{L}_{\\text{batch}}(\\theta) = \\frac{1}{N}\\sum_{i=0}^{N-1} \\big\\lVert v_t\\big(\\psi_t\\big(x_0^{(i)}\\big)\\big) - \\big(x_{1}^{(i)} - \\big(1 - \\sigma_{min}\\big)x_0^{(i)}\\big) \\big\\rVert^2\n",
        "$$\n"
      ]
    },
    {
      "cell_type": "code",
      "execution_count": null,
      "metadata": {
        "cellView": "form",
        "id": "rhMwA-BJIrd3"
      },
      "outputs": [],
      "source": [
        "#@title ⏳ Summary: please run this cell which contains the ```OTFlowMatching``` class\n",
        "class OTFlowMatching:\n",
        "  \n",
        "  def __init__(self, sig_min: float = 0.001) -> None:\n",
        "    super().__init__()\n",
        "    self.sig_min = sig_min\n",
        "    self.eps = 1e-5\n",
        "    \n",
        "  # conditional flow를 만듦\n",
        "  def psi_t(self, x: torch.Tensor, x_1: torch.Tensor, t: torch.Tensor) -> torch.Tensor:\n",
        "    \"\"\" Conditional Flow\n",
        "    \"\"\"\n",
        "    return (1 - (1 - self.sig_min) * t) * x + t * x_1\n",
        "  \n",
        "  def loss(self, v_t: nn.Module, x_1: torch.Tensor) -> torch.Tensor:\n",
        "      ''' comput loss '''\n",
        "      # t~ Unif([0,1])\n",
        "      ## x_t = conditional flow map의 output  / 이를 미분한 것 =  conditional vector field \n",
        "      # rand : 0~1 사이값  torch.arange는 일종의 순서를 더해주는 듯?\n",
        "      t = (torch.rand(1, device=x_1.device) + torch.arange(len(x_1), device=x_1.device) / len(x_1)) % (1 - self.eps) \n",
        "      # torch.rand : 1보다 작은 수 / torch.arange : 1보다 작은 수 \n",
        "      # (1-self.eps)로 나머지를 구하는 이유는 t값이 1이 되는 것을 방지 + 1보다 작은 수로 제한\n",
        "      t = t[:,None].expand(x_1.shape)\n",
        "      # x~p_t(x_0)\n",
        "      x_0 = torch.randn_like(x_1) # x_1과 동일한 형태로 난수 생성\n",
        "      v_psi = v_t(t[:,0], self.psi_t(x_0, x_1, t)) # v_t : 학습시키는 vector network\n",
        "      d_psi = x_1 - (1 - self.sig_min) * x_0\n",
        "      return torch.mean((v_psi - d_psi) **2)"
      ]
    },
    {
      "cell_type": "markdown",
      "metadata": {
        "id": "Ugd9xR1ugsWp"
      },
      "source": [
        "## Diffusion conditional Vector Fields:\n",
        "\n"
      ]
    },
    {
      "cell_type": "markdown",
      "metadata": {
        "id": "jo5mwRlDhS-A"
      },
      "source": [
        "### Variance Preserving diffusion:\n",
        "In this section, we propose an implementation of the _Conditional Vector Fields_ in the case of _Variance Preserving_ (VP) _Diffusion_."
      ]
    },
    {
      "cell_type": "code",
      "execution_count": 180,
      "metadata": {
        "id": "y2kYl26xkdls"
      },
      "outputs": [],
      "source": [
        "class VPDiffusionFlowMatching:\n",
        "\n",
        "  def __init__(self) -> None:\n",
        "    super().__init__()\n",
        "    self.beta_min = 0.1\n",
        "    self.beta_max = 20.0\n",
        "    self.eps = 1e-5"
      ]
    },
    {
      "cell_type": "markdown",
      "metadata": {
        "id": "XXkDq9XQWqFS"
      },
      "source": [
        "We need to implement the $\\mu_t$ and $\\sigma_t$ functions which define the following flow:\n",
        "$$\n",
        " \\psi_t(x) = \\sigma_t(x_1)x + \\mu_t(x_1)\n",
        "$$\n",
        "These functions rely on the $\\alpha_t$ and $\\beta_t$ schedules [4]."
      ]
    },
    {
      "cell_type": "code",
      "execution_count": 181,
      "metadata": {
        "id": "EL-BuPNgkh5M"
      },
      "outputs": [],
      "source": [
        "  def T(self, s: torch.Tensor) -> torch.Tensor:\n",
        "    return self.beta_min * s + 0.5 * (s ** 2) * (self.beta_max - self.beta_min)\n",
        "\n",
        "  def beta(self, t: torch.Tensor) -> torch.Tensor:\n",
        "    return self.beta_min + t*(self.beta_max - self.beta_min)\n",
        "\n",
        "  def alpha(self, t: torch.Tensor) -> torch.Tensor:\n",
        "    return torch.exp(-0.5 * self.T(t))\n",
        "\n",
        "  def mu_t(self, t: torch.Tensor, x_1: torch.Tensor) -> torch.Tensor:\n",
        "    return self.alpha(1. - t) * x_1\n",
        "\n",
        "  def sigma_t(self, t: torch.Tensor, x_1: torch.Tensor) -> torch.Tensor:\n",
        "    return torch.sqrt(1. - self.alpha(1. - t) ** 2)"
      ]
    },
    {
      "cell_type": "markdown",
      "metadata": {
        "id": "ckoNCAd_0iSV"
      },
      "source": [
        "In the case of _Variance Preserving_ we have a closed-form equation for the _conditional Vector Field_:\n",
        "$$\n",
        " u_t(x|x_1) = - \\frac{T'(1-t)}{2}\\left[ \\frac{e^{-T(1-t)}x - e^{-\\frac{1}{2}T(1-t)}x_1}{1 - e^{-T(1-t)}}\\right] \\tag{19}\n",
        "$$"
      ]
    },
    {
      "cell_type": "code",
      "execution_count": 182,
      "metadata": {
        "id": "QnuyFe4NydZT"
      },
      "outputs": [],
      "source": [
        "  def u_t(self, t: torch.Tensor, x: torch.Tensor, x_1: torch.Tensor) -> torch.Tensor:\n",
        "    num = torch.exp(-self.T(1. - t)) * x - torch.exp(-0.5 * self.T(1.-t))* x_1\n",
        "    denum = 1. - torch.exp(- self.T(1. - t))\n",
        "    return - 0.5 * self.beta(1. - t) * (num/denum)"
      ]
    },
    {
      "cell_type": "markdown",
      "metadata": {
        "id": "QIOww1YH42Gk"
      },
      "source": [
        "Hence, we can compute the regression loss on the conditional vector fields.\n",
        "$$\n",
        "\\mathcal{L}_{CFM}(\\theta) = \\mathbb{E}_{t, q(x_1), p_t(x|x_1)} \\lVert v_t(x) - u_t(x|x_1) \\rVert^2 \\tag{9}\n",
        "$$ \n"
      ]
    },
    {
      "cell_type": "code",
      "execution_count": 183,
      "metadata": {
        "id": "stJnvihOkndc"
      },
      "outputs": [],
      "source": [
        "  def loss(self, v_t: nn.Module, x_1: torch.Tensor) -> torch.Tensor:\n",
        "    \"\"\" Compute loss\n",
        "    \"\"\" \n",
        "    # t ~ Unif([0, 1])\n",
        "    t = (torch.rand(1, device=x_1.device) + torch.arange(len(x_1), device=x_1.device) / len(x_1)) % (1 - self.eps)\n",
        "    t = t[:, None].expand(x_1.shape)\n",
        "    # x ~ p_t(x|x_1)\n",
        "    x = self.mu_t(t, x_1) + self.sigma_t(t, x_1) * torch.randn_like(x_1)\n",
        "\n",
        "    return torch.mean((v_t(t[:,0], x) - self.u_t(t, x, x_1)) ** 2)"
      ]
    },
    {
      "cell_type": "code",
      "execution_count": 184,
      "metadata": {
        "cellView": "form",
        "id": "XZP48U0N4PRq"
      },
      "outputs": [],
      "source": [
        "#@title ⏳ Summary: please run this cell which contains the ```VPDiffusionFlowMatching``` class\n",
        "\n",
        "class VPDiffusionFlowMatching:\n",
        "\n",
        "  def __init__(self) -> None:\n",
        "    super().__init__()\n",
        "    self.beta_min = 0.1\n",
        "    self.beta_max = 20.0\n",
        "    self.eps = 1e-5\n",
        "\n",
        "  def T(self, s: torch.Tensor) -> torch.Tensor:\n",
        "\n",
        "    return self.beta_min * s + 0.5 * (s ** 2) * (self.beta_max - self.beta_min)\n",
        "\n",
        "  def beta(self, t: torch.Tensor) -> torch.Tensor:\n",
        "    \n",
        "    return self.beta_min + t*(self.beta_max - self.beta_min)\n",
        "\n",
        "  def alpha(self, t: torch.Tensor) -> torch.Tensor:\n",
        "\n",
        "    return torch.exp(-0.5 * self.T(t))\n",
        "\n",
        "  def mu_t(self, t: torch.Tensor, x_1: torch.Tensor) -> torch.Tensor:\n",
        "\n",
        "    return self.alpha(1. - t) * x_1\n",
        "\n",
        "  def sigma_t(self, t: torch.Tensor, x_1: torch.Tensor) -> torch.Tensor:\n",
        "\n",
        "    return torch.sqrt(1. - self.alpha(1. - t) ** 2)\n",
        "\n",
        "  def u_t(self, t: torch.Tensor, x: torch.Tensor, x_1: torch.Tensor) -> torch.Tensor:\n",
        "\n",
        "    num = torch.exp(-self.T(1. - t)) * x - torch.exp(-0.5 * self.T(1.-t))* x_1\n",
        "    denum = 1. - torch.exp(- self.T(1. - t))\n",
        "    return - 0.5 * self.beta(1. - t) * (num/denum)\n",
        "\n",
        "\n",
        "  def loss(self, v_t: nn.Module, x_1: torch.Tensor) -> torch.Tensor:\n",
        "    \"\"\" Compute loss\n",
        "    \"\"\" \n",
        "    # t ~ Unif([0, 1])\n",
        "    t = (torch.rand(1, device=x_1.device) + torch.arange(len(x_1), device=x_1.device) / len(x_1)) % (1 - self.eps)\n",
        "    t = t[:, None].expand(x_1.shape)\n",
        "    # x ~ p_t(x|x_1)\n",
        "    x = self.mu_t(t, x_1) + self.sigma_t(t, x_1) * torch.randn_like(x_1)\n",
        "\n",
        "    return torch.mean((v_t(t[:,0], x) - self.u_t(t, x, x_1)) ** 2)\n",
        "\n"
      ]
    },
    {
      "cell_type": "markdown",
      "metadata": {
        "id": "qVPUlqsvhK3h"
      },
      "source": [
        "### Variance Exploding Diffusion:\n",
        "\n",
        "In this section, we propose an implementation of the _Conditional Vector Fields_ in the case of _Variance Exploding_ (VE) _Diffusion_."
      ]
    },
    {
      "cell_type": "code",
      "execution_count": 185,
      "metadata": {
        "id": "avX9dBj6lueq"
      },
      "outputs": [],
      "source": [
        "class VEDiffusionFlowMatching:\n",
        "\n",
        "  def __init__(self) -> None:\n",
        "    super().__init__()\n",
        "    self.sigma_min = 0.01\n",
        "    self.sigma_max = 2. \n",
        "    self.eps = 1e-5"
      ]
    },
    {
      "cell_type": "markdown",
      "metadata": {
        "id": "SZE3q7gG5OLj"
      },
      "source": [
        "In the case of _Variance Exploding_ we have a closed-form equation for the _conditional Vector Field_ that rely on $\\sigma_t$ and $\\sigma_t'$:\n",
        "$$\n",
        "u(x| x_1) = - \\frac{\\sigma_{1-t}'}{\\sigma_{1-t}}(x - x_1) \\tag{17}\n",
        "$$"
      ]
    },
    {
      "cell_type": "code",
      "execution_count": 186,
      "metadata": {
        "id": "o0VhxVjQlyPE"
      },
      "outputs": [],
      "source": [
        "  def sigma_t(self, t: torch.Tensor) -> torch.Tensor:\n",
        "    return self.sigma_min * (self.sigma_max / self.sigma_min) ** t\n",
        "\n",
        "  def dsigma_dt(self, t: torch.Tensor) -> torch.Tensor:\n",
        "    return self.sigma_t(t) * torch.log(torch.tensor(self.sigma_max/self.sigma_min))"
      ]
    },
    {
      "cell_type": "code",
      "execution_count": 187,
      "metadata": {
        "id": "jV48_XbV20uk"
      },
      "outputs": [],
      "source": [
        "  def u_t(self, t: torch.Tensor, x: torch.Tensor, x_1: torch.Tensor) -> torch.Tensor:\n",
        "    return -(self.dsigma_dt(1. - t) / self.sigma_t(1. - t)) * (x - x_1)"
      ]
    },
    {
      "cell_type": "markdown",
      "metadata": {
        "id": "eD41NIGy5K2u"
      },
      "source": [
        "As for VP Diffusion, we can directly compute the regression loss on the conditional vector fields.\n",
        "$$\n",
        "\\mathcal{L}_{CFM}(\\theta) = \\mathbb{E}_{t, q(x_1), p_t(x|x_1)} \\lVert v_t(x) - u_t(x|x_1) \\rVert^2 \\tag{9}\n",
        "$$ "
      ]
    },
    {
      "cell_type": "code",
      "execution_count": 188,
      "metadata": {
        "id": "PG4NRb1Nl2pE"
      },
      "outputs": [],
      "source": [
        "def loss(self, v_t: nn.Module, x_1: torch.Tensor) -> torch.Tensor:\n",
        "    \"\"\" Compute loss\n",
        "    \"\"\" \n",
        "    # t ~ Unif([0, 1])\n",
        "    t = (torch.rand(1, device=x_1.device) + torch.arange(len(x_1), device=x_1.device) / len(x_1)) % (1 - self.eps)\n",
        "    t = t[:, None].expand(x_1.shape)\n",
        "    # x ~ p_t(x|x_1)\n",
        "    x = x_1 + self.sigma_t(1. - t) * torch.randn_like(x_1)\n",
        "\n",
        "    return torch.mean((v_t(t[:,0], x) - self.u_t(t, x, x_1)) ** 2)"
      ]
    },
    {
      "cell_type": "code",
      "execution_count": 189,
      "metadata": {
        "cellView": "form",
        "id": "z9H9cihc63Jl"
      },
      "outputs": [],
      "source": [
        "#@title ⏳ Summary: please run this cell which contains the ```VEDiffusionFlowMatching``` class\n",
        "class VEDiffusionFlowMatching:\n",
        "\n",
        "  def __init__(self) -> None:\n",
        "    super().__init__()\n",
        "    self.sigma_min = 0.01\n",
        "    self.sigma_max = 2.\n",
        "    self.eps = 1e-5\n",
        "\n",
        "\n",
        "  def sigma_t(self, t: torch.Tensor) -> torch.Tensor:\n",
        "\n",
        "    return self.sigma_min * (self.sigma_max / self.sigma_min) ** t\n",
        "\n",
        "  def dsigma_dt(self, t: torch.Tensor) -> torch.Tensor:\n",
        "\n",
        "    return self.sigma_t(t) * torch.log(torch.tensor(self.sigma_max/self.sigma_min))\n",
        "\n",
        "  def u_t(self, t: torch.Tensor, x: torch.Tensor, x_1: torch.Tensor) -> torch.Tensor:\n",
        "\n",
        "    return -(self.dsigma_dt(1. - t) / self.sigma_t(1. - t)) * (x - x_1)\n",
        "\n",
        "  def loss(self, v_t: nn.Module, x_1: torch.Tensor) -> torch.Tensor:\n",
        "    \"\"\" Compute loss\n",
        "    \"\"\" \n",
        "    # t ~ Unif([0, 1])\n",
        "    t = (torch.rand(1, device=x_1.device) + torch.arange(len(x_1), device=x_1.device) / len(x_1)) % (1 - self.eps)\n",
        "    t = t[:, None].expand(x_1.shape)\n",
        "    # x ~ p_t(x|x_1)\n",
        "    x = x_1 + self.sigma_t(1. - t) * torch.randn_like(x_1)\n",
        "\n",
        "    return torch.mean((v_t(t[:,0], x) - self.u_t(t, x, x_1)) ** 2)"
      ]
    },
    {
      "cell_type": "markdown",
      "metadata": {
        "id": "qoZPnVR100VV"
      },
      "source": [
        "## Conditional Vector Field:\n",
        "\n",
        "We add the ```CondVF```  class which aims to model the _Optimal Transport Conditional Vector Field_ $v_t$. This approximation $v_{t}(\\;⋅\\;;\\theta)$ of the true $v_t$ will be optimized later in this notebook by tuning the parameters $\\theta$ of ```CondVF.net```."
      ]
    },
    {
      "cell_type": "markdown",
      "metadata": {
        "id": "iR3EgmPhDjpN"
      },
      "source": [
        "Furthermore, we define the ```encode``` and ```decode``` functions:\n",
        "- ```encode``` maps the data distribtion $q(x_1)\\approx p_1(x_1)$ to the prior distribution $p(x_0)$.\n",
        "- ```decode``` maps the prior distribution $p(x_0)$ to the data distribtion $p_1(x_1) \\approx q(x_1)$.\n",
        "\n",
        "The article mentions that a flow $\\phi_t$ and its corresponding vector field $v_t$ verify the following equations:\n",
        "$$\n",
        "\\begin{cases}\n",
        "  \\frac{d}{dt}\\phi_t(x) = v_t(\\phi_t(x))\\\\ \n",
        "  \\phi_0(x) = x \\tag{1, 2}\\\\\n",
        "\\end{cases}\n",
        "$$\n",
        "\n",
        "Thus, to ```encode``` we integrate the first equation from $t=1$ to $t=0$ and the ```decode``` function is the same but going from $t=0$ to $t=1$. Following François Rozet's implementation and side notes [2], we use the function ```odeint``` from the _Zuko_ package [3]. We build a small ```wrapper``` which only aims at providing time tensor with the correct shapes to the neural network ```net``` when using ```odeint```."
      ]
    },
    {
      "cell_type": "code",
      "execution_count": 25,
      "metadata": {
        "cellView": "form",
        "id": "RqH-PUY6UCBR"
      },
      "outputs": [],
      "source": [
        "#@title ⏳ Summary: please run this cell which contains the ```CondVF``` class.\n",
        "# 위에서 구한 Optimal Transport Conditional Vector Field를 모델링 == v_t 모듈\n",
        "\n",
        "# encode : data dist p1을 -> prior dist(Normal) p0로 매핑\n",
        "# decode : prior - > data dist로 매핑\n",
        "# odeint : ODE를 제공하는 라이브러리\n",
        "## odeint(f, x, t0, t1, paramter)\n",
        "## f (Callable[[Tensor, Tensor], Tensor]) – A system of first-order ODEs \n",
        "## x (Tensor | Sequence[Tensor]) – The initial state x0\n",
        "## t0 (float | Tensor) – The initial integration time t0\n",
        "## t1 (float | Tensor) – The final integration time t1\n",
        "## parameter - f 네트워크의 파라미터\n",
        "## output - final state x(t1)\n",
        "# wrapper : t를 forward 함수에 넣어 호출\n",
        "\n",
        "class CondVF(nn.Module):\n",
        "  def __init__(self, net: nn.Module, n_steps: int = 100) -> None:\n",
        "    super().__init__()\n",
        "    self.net = net\n",
        "\n",
        "  def forward(self, t: torch.Tensor, x: torch.Tensor) -> torch.Tensor:\n",
        "    return self.net(t, x)\n",
        "  \n",
        "  def wrapper(self, t: torch.Tensor, x: torch.Tensor) -> torch.Tensor:\n",
        "      t = t * torch.ones(len(x), device=x.device) # forward 메서드 실행\n",
        "      # == return self.forward(t,x) = self.net(t,x) # 여기서 net는 단순한 MLP 네트워크로 정의\n",
        "      return self(t, x)  \n",
        "      \n",
        "  def decode_t0_t1(self, x_0, t0, t1):\n",
        "    return odeint(self.wrapper, x_0, t0, t1, self.parameters())\n",
        "\n",
        "\n",
        "  def encode(self, x_1: torch.Tensor) -> torch.Tensor:\n",
        "    return odeint(self.wrapper, x_1, 1., 0., self.parameters())\n",
        "\n",
        "  def decode(self, x_0: torch.Tensor) -> torch.Tensor:\n",
        "    return odeint(self.wrapper, x_0, 0., 1., self.parameters())"
      ]
    },
    {
      "cell_type": "markdown",
      "metadata": {
        "id": "NlDlHJya188e"
      },
      "source": [
        "## Neural Network for VF approximation:"
      ]
    },
    {
      "cell_type": "markdown",
      "metadata": {
        "id": "MyIp8CfWbOoJ"
      },
      "source": [
        "We want to approximate $v_t$ with a parametric model $v_{t}(\\;\\cdot\\;;\\theta)$. Since we deal with point coordinates and want to keep the neural network simple for this example, we use a simple _Multilayer Perceptron_ (MLP)."
      ]
    },
    {
      "cell_type": "markdown",
      "metadata": {
        "id": "YPte-sZAdxCH"
      },
      "source": [
        " However the vector field $v$ is conditioned on time $t$. Thus, we create a _sinusoidal positional encoding_ of $t$ thanks to sine and cosine functions to have a time representation that make more sense than only its value between $0$ and $1$."
      ]
    },
    {
      "cell_type": "markdown",
      "metadata": {
        "id": "gO6ZkwyTgGCu"
      },
      "source": [
        "When computing $v_t(x)$ we simply concatenate the _sinusoidale positional encoding_ of $t$ with $x$ (input coordinates), and then process the obtained tensor with the MLP's layers."
      ]
    },
    {
      "cell_type": "code",
      "execution_count": null,
      "metadata": {
        "id": "BA-LgtoEeN4a"
      },
      "outputs": [],
      "source": [
        "#@title ⏳ Summary: please run this cell which contains the ```Net``` class.\n",
        "class Net(nn.Module):\n",
        "  def __init__(self, in_dim:int, out_dim:int, h_dims:List[int], n_frequencies:int) -> None:\n",
        "    super().__init__()\n",
        "    \n",
        "    # in_d, out_d가 맞나?\n",
        "    ins = [in_dim + 2*n_frequencies] + h_dims # 2*n_frequencies를 더해주는 이유는 sin,cos의 positional encoding 값을 차원 상에서 더해주기 때문\n",
        "    outs = h_dims + [out_dim]\n",
        "    self.n_frequencies = n_frequencies\n",
        "    \n",
        "    self.layers = nn.ModuleList([\n",
        "      nn.Sequential(nn.Linear(in_d, out_d), nn.LeakyReLU()) for in_d, out_d in zip(ins, outs) \n",
        "    ])\n",
        "    self.top = nn.Sequential(nn.Linear(out_dim, out_dim))\n",
        "  \n",
        "  def time_encoder(self, t: torch.Tensor) -> torch.Tensor:\n",
        "    freq = 2 * torch.arange(self.n_frequencies, device = t.device) * torch.pi\n",
        "    t = freq * t[..., None]\n",
        "    return torch.cat((t.cos(), t.sin()), dim=-1)\n",
        "  # t의 차원 확인\n",
        "  def forward(self, t: torch.Tensor, x:torch.Tensor) -> torch.Tensor:\n",
        "    t = self.time_encoder(t)\n",
        "    x = torch.cat((x,t) , dim=-1)\n",
        "  \n",
        "    for l in self.layers:\n",
        "      x = l(x)\n",
        "    return self.top(x)  \n",
        "  "
      ]
    },
    {
      "cell_type": "markdown",
      "metadata": {
        "id": "iyrny-eMIdJK"
      },
      "source": [
        "## Create dataset\n",
        "\n",
        "For this notebook we consider a 2D-dataset and we choose a standard dataset: the _half-moon dataset_. This defines the distribution $q(x_1)$ over the  $\\mathbb{R}^2$ data space, _i.e._ the data points are described by two coordinates $x = (a, b)$. We sample a large number ```n_points``` of data points from $q(x_1)$ to build the dataset and we plot them. In addition, in this work we consider a simple gaussian _prior distribution_:\n",
        "$$\n",
        "p(x) = \\mathcal{N}(x|0, I)\n",
        "$$"
      ]
    },
    {
      "cell_type": "code",
      "execution_count": 37,
      "metadata": {
        "colab": {
          "base_uri": "https://localhost:8080/",
          "height": 265
        },
        "id": "bWzZjcEzHheU",
        "outputId": "23e52adb-04f2-40ce-93eb-c6f0cd24d77f"
      },
      "outputs": [
        {
          "data": {
            "image/png": "[encoded data removed]",
            "text/plain": [
              "<Figure size 640x480 with 1 Axes>"
            ]
          },
          "metadata": {},
          "output_type": "display_data"
        }
      ],
      "source": [
        "def get_data(dataset:str, n_points:int) -> np.ndarray:\n",
        "  if dataset == \"moons\":\n",
        "    data, _ = make_moons(n_points, noise=0.15)\n",
        "  elif dataset == \"swiss\":\n",
        "    data, _ = make_swiss_roll(n_points, noise= 0.25)\n",
        "    data = data[:, [0,2]] / 10.0\n",
        "  return StandardScaler().fit_transform(data)\n",
        "\n",
        "n_points = 10000\n",
        "DATASET = \"swiss\"\n",
        "data= get_data(DATASET, n_points)\n",
        "\n",
        "%matplotlib inline\n",
        "plt.hist2d(data[:,0], data[:,1], bins=128)\n",
        "plt.show()\n",
        "    "
      ]
    },
    {
      "cell_type": "markdown",
      "metadata": {
        "id": "8dBLSaZ4rOKn"
      },
      "source": [
        "We then transform the data points into a ```pytorch.utils.data.DataLoader``` to facilitate data handling. We set the ```batch_size``` to $512$."
      ]
    },
    {
      "cell_type": "code",
      "execution_count": 39,
      "metadata": {
        "id": "EPCtsiJcHmFr"
      },
      "outputs": [
        {
          "name": "stdout",
          "output_type": "stream",
          "text": [
            "[tensor([[-0.6933,  1.1387],\n",
            "        [ 0.6794,  0.1232],\n",
            "        [ 0.0880,  1.9465],\n",
            "        ...,\n",
            "        [ 0.6561,  0.3549],\n",
            "        [ 1.5480, -0.3112],\n",
            "        [-0.6384,  1.1001]])]\n",
            "[tensor([[-0.5018, -1.6137],\n",
            "        [ 0.7572,  1.6244],\n",
            "        [ 0.5455,  0.5929],\n",
            "        ...,\n",
            "        [ 1.5896,  0.5136],\n",
            "        [-1.6388, -0.3751],\n",
            "        [ 0.5941,  0.3274]])]\n",
            "[tensor([[ 0.2852,  1.8374],\n",
            "        [ 1.4544,  0.7566],\n",
            "        [-0.1725, -0.6930],\n",
            "        ...,\n",
            "        [ 1.4599,  0.9224],\n",
            "        [-0.8469,  1.0989],\n",
            "        [ 0.5838,  0.3810]])]\n",
            "[tensor([[-0.1514,  1.1158],\n",
            "        [-0.1154, -0.7996],\n",
            "        [ 1.4169, -0.6492],\n",
            "        ...,\n",
            "        [ 0.6388,  0.3774],\n",
            "        [-1.6556,  0.1281],\n",
            "        [-1.6007,  0.5355]])]\n",
            "[tensor([[ 6.8709e-04, -6.3196e-01],\n",
            "        [ 1.8980e-01, -7.1948e-01],\n",
            "        [-1.0761e+00, -1.2490e+00],\n",
            "        ...,\n",
            "        [ 4.8865e-01,  1.7637e+00],\n",
            "        [ 6.1227e-01, -1.4843e+00],\n",
            "        [-1.7342e+00, -2.2665e-01]])]\n",
            "[tensor([[-0.6933,  1.1387],\n",
            "        [ 0.6794,  0.1232],\n",
            "        [ 0.0880,  1.9465],\n",
            "        ...,\n",
            "        [ 0.6561,  0.3549],\n",
            "        [ 1.5480, -0.3112],\n",
            "        [-0.6384,  1.1001]])]\n",
            "[tensor([[-0.5018, -1.6137],\n",
            "        [ 0.7572,  1.6244],\n",
            "        [ 0.5455,  0.5929],\n",
            "        ...,\n",
            "        [ 1.5896,  0.5136],\n",
            "        [-1.6388, -0.3751],\n",
            "        [ 0.5941,  0.3274]])]\n",
            "[tensor([[ 0.2852,  1.8374],\n",
            "        [ 1.4544,  0.7566],\n",
            "        [-0.1725, -0.6930],\n",
            "        ...,\n",
            "        [ 1.4599,  0.9224],\n",
            "        [-0.8469,  1.0989],\n",
            "        [ 0.5838,  0.3810]])]\n",
            "[tensor([[-0.1514,  1.1158],\n",
            "        [-0.1154, -0.7996],\n",
            "        [ 1.4169, -0.6492],\n",
            "        ...,\n",
            "        [ 0.6388,  0.3774],\n",
            "        [-1.6556,  0.1281],\n",
            "        [-1.6007,  0.5355]])]\n",
            "[tensor([[ 6.8709e-04, -6.3196e-01],\n",
            "        [ 1.8980e-01, -7.1948e-01],\n",
            "        [-1.0761e+00, -1.2490e+00],\n",
            "        ...,\n",
            "        [ 4.8865e-01,  1.7637e+00],\n",
            "        [ 6.1227e-01, -1.4843e+00],\n",
            "        [-1.7342e+00, -2.2665e-01]])]\n",
            "torch.Size([2048, 2])\n",
            "torch.Size([2048, 2])\n",
            "torch.Size([2048, 2])\n",
            "torch.Size([2048, 2])\n",
            "torch.Size([1808, 2])\n"
          ]
        }
      ],
      "source": [
        "batch_size = 2048\n",
        "dataset = torch.from_numpy(data).float()\n",
        "dataset = dataset.to(device)\n",
        "dataset = TensorDataset(dataset) \n",
        "dataloader = DataLoader(dataset, batch_size=batch_size)"
      ]
    },
    {
      "cell_type": "markdown",
      "metadata": {
        "id": "PzQXJmYJ6jIf"
      },
      "source": [
        "## Training:"
      ]
    },
    {
      "cell_type": "markdown",
      "metadata": {
        "id": "dmWvMupS0DlH"
      },
      "source": [
        "We train the neural network using the ```AdamW``` optimizer (Adam optimizer with _weight decay_) with a _learning rate_ $lr = 10^{-3}$ during $N = 500$ epochs:"
      ]
    },
    {
      "cell_type": "code",
      "execution_count": 45,
      "metadata": {
        "colab": {
          "base_uri": "https://localhost:8080/"
        },
        "id": "rd83qQF8xodk",
        "outputId": "80b44a05-58a1-4884-bbb2-f54264fb50ce"
      },
      "outputs": [
        {
          "name": "stderr",
          "output_type": "stream",
          "text": [
            "  0%|                                                           | 0/100 [00:00<?, ?it/s]"
          ]
        },
        {
          "name": "stdout",
          "output_type": "stream",
          "text": [
            "tensor(2.1560, grad_fn=<MeanBackward0>)\n"
          ]
        },
        {
          "name": "stderr",
          "output_type": "stream",
          "text": [
            "100%|█████████████████████████████████████████████████| 100/100 [14:03<00:00,  8.43s/it]\n"
          ]
        }
      ],
      "source": [
        "def get_model(name: str):\n",
        "    if name == \"vp\":\n",
        "      return VPDiffusionFlowMatching()\n",
        "    elif name == \"ve\":\n",
        "      return VEDiffusionFlowMatching()\n",
        "    if name == \"ot\":\n",
        "      return OTFlowMatching()\n",
        "\n",
        "MODEL = \"ot\"\n",
        "model = get_model(MODEL)\n",
        "net = Net(2, 2, [512]*5, 10).to(device) # 네트워크로는 단순한 MLP 설정\n",
        "v_t = CondVF(net)    \n",
        "\n",
        "losses = [] \n",
        "# configure optimizer\n",
        "optimizer = torch.optim.Adam(v_t.parameters(), lr=1e-3)\n",
        "n_epochs = 100\n",
        "    \n",
        "for epoch in tqdm(range(n_epochs), ncols=88):\n",
        "    for batch in dataloader:\n",
        "      x_1 = batch[0]\n",
        "      # compute loss \n",
        "      loss = model.loss(v_t, x_1)\n",
        "      optimizer.zero_grad()\n",
        "      loss.backward()\n",
        "      optimizer.step()\n",
        "      losses += [loss.detach()]"
      ]
    },
    {
      "cell_type": "markdown",
      "metadata": {
        "id": "azqtOY0S8Cr9"
      },
      "source": [
        "## Sampling:"
      ]
    },
    {
      "cell_type": "markdown",
      "metadata": {
        "id": "g7yvvByh33b4"
      },
      "source": [
        "To sample $\\hat{x}_{1} \\sim q(x_1)$ we first sample $x_0 \\sim p(x)$, _i.e._ we draw samples from the _prior distribution_, and then apply the ```decode``` function from the ```CondVF``` class. This step may take several minutes depending on the ```n_samples``` chosen."
      ]
    },
    {
      "cell_type": "code",
      "execution_count": 30,
      "metadata": {
        "id": "4VEyOyy91Wju"
      },
      "outputs": [],
      "source": [
        "# Sampling\n",
        "n_samples = 10_000\n",
        "with torch.no_grad():\n",
        "    x_0 = torch.randn(n_samples, 2, device=device)\n",
        "    x_1_hat = v_t.decode(x_0)"
      ]
    },
    {
      "cell_type": "markdown",
      "metadata": {
        "id": "5hsDf_TD6J_j"
      },
      "source": [
        "Last, we plot the samples $\\hat{x}_1$ distribution:"
      ]
    },
    {
      "cell_type": "code",
      "execution_count": 31,
      "metadata": {
        "colab": {
          "base_uri": "https://localhost:8080/",
          "height": 266
        },
        "id": "l_NPXHeSNg8Y",
        "outputId": "b4e43284-8caf-46a9-855c-4f2829db4130"
      },
      "outputs": [
        {
          "data": {
            "image/png": "[encoded data removed]",
            "text/plain": [
              "<Figure size 640x480 with 1 Axes>"
            ]
          },
          "metadata": {},
          "output_type": "display_data"
        }
      ],
      "source": [
        "%matplotlib inline\n",
        "import matplotlib.pyplot as plt\n",
        "x_1_hat = x_1_hat.cpu().numpy()\n",
        "plt.hist2d(x_1_hat[:, 0], x_1_hat[:, 1], bins=164)\n",
        "plt.show()"
      ]
    },
    {
      "cell_type": "code",
      "execution_count": 32,
      "metadata": {
        "id": "3TW8GRXHRnji"
      },
      "outputs": [],
      "source": [
        "# Sampling\n",
        "N_SAMPLES = 10_000\n",
        "N_STEPS = 100\n",
        "t_steps = torch.linspace(0, 1, N_STEPS, device=device)\n",
        "with torch.no_grad():\n",
        "    x_t = [torch.randn(n_samples, 2, device=device)]\n",
        "    for t in range(len(t_steps)-1):\n",
        "      x_t += [v_t.decode_t0_t1(x_t[-1], t_steps[t], t_steps[t+1])]\n",
        "\n",
        "# pad predictions\n",
        "x_t = [x_t[0]]*10 + x_t + [x_t[-1]] * 10\n",
        "\n",
        "x_t_numpy = np.array([x.detach().cpu().numpy() for x in x_t])\n",
        "filename = f\"{DATASET}_{MODEL}_{N_SAMPLES}_{N_STEPS}.npy\"\n",
        "np.save(filename, x_t_numpy)\n"
      ]
    }
  ],
  "metadata": {
    "accelerator": "GPU",
    "colab": {
      "authorship_tag": "ABX9TyO8IoWngZmvSHlYJWKw+kch",
      "include_colab_link": true,
      "provenance": []
    },
    "gpuClass": "standard",
    "kernelspec": {
      "display_name": "student_env",
      "language": "python",
      "name": "python3"
    },
    "language_info": {
      "codemirror_mode": {
        "name": "ipython",
        "version": 3
      },
      "file_extension": ".py",
      "mimetype": "text/x-python",
      "name": "python",
      "nbconvert_exporter": "python",
      "pygments_lexer": "ipython3",
      "version": "3.10.12"
    }
  },
  "nbformat": 4,
  "nbformat_minor": 0
}
